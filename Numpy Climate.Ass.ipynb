{
 "cells": [
  {
   "cell_type": "code",
   "execution_count": 2,
   "id": "7eae1f87",
   "metadata": {},
   "outputs": [],
   "source": [
    "import numpy as np"
   ]
  },
  {
   "cell_type": "markdown",
   "id": "b47430a3",
   "metadata": {},
   "source": [
    "Q1.Data science problems on reading, concatenating, Data manipulation, and saving Data.\n",
    "\n",
    "In the Data Science project, for analyzing climate data to predict corp yield from various stations, climate data are captured from ten various stations ie.climate_data_station1.csv to climate_data_station10.csv\n",
    "File url_link=https://github.com/svkarthik86/Advanced-python/tree/main/climate_project\n",
    "n \n",
    "as Data analytics you have to read all files generated from stations and concatenate all files into one single data.\n",
    "and then calculate corp yield.\n",
    "\n",
    "for calculating the corp yield as a weighted sum of the temperature, rainfall, and humidity\n",
    "yield_of_corp  = w1 * temperature + w2 * rainfall + w3 * humidity\n",
    "w1, w2, w3 = 0.3, 0.2, 0.5\n",
    "\n",
    "using the above information to generate yield_of_corp data and then concatenate yield_of_corp as the last column in climate_data.\n",
    "finally, save the result to climate_result.csv"
   ]
  },
  {
   "cell_type": "code",
   "execution_count": 3,
   "id": "edaaaf95",
   "metadata": {},
   "outputs": [
    {
     "data": {
      "text/plain": [
       "array([[ 25,  76,  99],\n",
       "       [ 39,  65,  70],\n",
       "       [ 59,  45,  77],\n",
       "       ...,\n",
       "       [ 95, 100,  66],\n",
       "       [ 75,  97,  24],\n",
       "       [ 87,  59,  81]])"
      ]
     },
     "execution_count": 3,
     "metadata": {},
     "output_type": "execute_result"
    }
   ],
   "source": [
    "file1=np.genfromtxt('climate_data_station1.csv',delimiter=',',dtype=int)\n",
    "file1"
   ]
  },
  {
   "cell_type": "code",
   "execution_count": 28,
   "id": "a0a83b4e",
   "metadata": {},
   "outputs": [
    {
     "name": "stdout",
     "output_type": "stream",
     "text": [
      "1\n"
     ]
    },
    {
     "ename": "PermissionError",
     "evalue": "[Errno 13] Permission denied: 'climate'",
     "output_type": "error",
     "traceback": [
      "\u001b[1;31m---------------------------------------------------------------------------\u001b[0m",
      "\u001b[1;31mPermissionError\u001b[0m                           Traceback (most recent call last)",
      "Input \u001b[1;32mIn [28]\u001b[0m, in \u001b[0;36m<cell line: 1>\u001b[1;34m()\u001b[0m\n\u001b[0;32m      2\u001b[0m \u001b[38;5;28mprint\u001b[39m(i)\n\u001b[0;32m      3\u001b[0m file\u001b[38;5;241m=\u001b[39m\u001b[38;5;124mf\u001b[39m\u001b[38;5;124m\"\u001b[39m\u001b[38;5;124mclimate\u001b[39m\u001b[38;5;124m\"\u001b[39m\n\u001b[1;32m----> 4\u001b[0m data\u001b[38;5;241m=\u001b[39m\u001b[43mnp\u001b[49m\u001b[38;5;241;43m.\u001b[39;49m\u001b[43mgenfromtxt\u001b[49m\u001b[43m(\u001b[49m\u001b[43mfile\u001b[49m\u001b[43m,\u001b[49m\u001b[43mdelimiter\u001b[49m\u001b[38;5;241;43m=\u001b[39;49m\u001b[38;5;124;43m'\u001b[39;49m\u001b[38;5;124;43m,\u001b[39;49m\u001b[38;5;124;43m'\u001b[39;49m\u001b[43m)\u001b[49m\n\u001b[0;32m      5\u001b[0m con\u001b[38;5;241m=\u001b[39mnp\u001b[38;5;241m.\u001b[39mconcatenate((data),axis\u001b[38;5;241m=\u001b[39m\u001b[38;5;241m0\u001b[39m)\n\u001b[0;32m      6\u001b[0m \u001b[38;5;28mprint\u001b[39m(con)\n",
      "File \u001b[1;32m~\\anaconda3\\lib\\site-packages\\numpy\\lib\\npyio.py:1793\u001b[0m, in \u001b[0;36mgenfromtxt\u001b[1;34m(fname, dtype, comments, delimiter, skip_header, skip_footer, converters, missing_values, filling_values, usecols, names, excludelist, deletechars, replace_space, autostrip, case_sensitive, defaultfmt, unpack, usemask, loose, invalid_raise, max_rows, encoding, like)\u001b[0m\n\u001b[0;32m   1791\u001b[0m     fname \u001b[38;5;241m=\u001b[39m os_fspath(fname)\n\u001b[0;32m   1792\u001b[0m \u001b[38;5;28;01mif\u001b[39;00m \u001b[38;5;28misinstance\u001b[39m(fname, \u001b[38;5;28mstr\u001b[39m):\n\u001b[1;32m-> 1793\u001b[0m     fid \u001b[38;5;241m=\u001b[39m \u001b[43mnp\u001b[49m\u001b[38;5;241;43m.\u001b[39;49m\u001b[43mlib\u001b[49m\u001b[38;5;241;43m.\u001b[39;49m\u001b[43m_datasource\u001b[49m\u001b[38;5;241;43m.\u001b[39;49m\u001b[43mopen\u001b[49m\u001b[43m(\u001b[49m\u001b[43mfname\u001b[49m\u001b[43m,\u001b[49m\u001b[43m \u001b[49m\u001b[38;5;124;43m'\u001b[39;49m\u001b[38;5;124;43mrt\u001b[39;49m\u001b[38;5;124;43m'\u001b[39;49m\u001b[43m,\u001b[49m\u001b[43m \u001b[49m\u001b[43mencoding\u001b[49m\u001b[38;5;241;43m=\u001b[39;49m\u001b[43mencoding\u001b[49m\u001b[43m)\u001b[49m\n\u001b[0;32m   1794\u001b[0m     fid_ctx \u001b[38;5;241m=\u001b[39m contextlib\u001b[38;5;241m.\u001b[39mclosing(fid)\n\u001b[0;32m   1795\u001b[0m \u001b[38;5;28;01melse\u001b[39;00m:\n",
      "File \u001b[1;32m~\\anaconda3\\lib\\site-packages\\numpy\\lib\\_datasource.py:193\u001b[0m, in \u001b[0;36mopen\u001b[1;34m(path, mode, destpath, encoding, newline)\u001b[0m\n\u001b[0;32m    156\u001b[0m \u001b[38;5;124;03m\"\"\"\u001b[39;00m\n\u001b[0;32m    157\u001b[0m \u001b[38;5;124;03mOpen `path` with `mode` and return the file object.\u001b[39;00m\n\u001b[0;32m    158\u001b[0m \n\u001b[1;32m   (...)\u001b[0m\n\u001b[0;32m    189\u001b[0m \n\u001b[0;32m    190\u001b[0m \u001b[38;5;124;03m\"\"\"\u001b[39;00m\n\u001b[0;32m    192\u001b[0m ds \u001b[38;5;241m=\u001b[39m DataSource(destpath)\n\u001b[1;32m--> 193\u001b[0m \u001b[38;5;28;01mreturn\u001b[39;00m \u001b[43mds\u001b[49m\u001b[38;5;241;43m.\u001b[39;49m\u001b[43mopen\u001b[49m\u001b[43m(\u001b[49m\u001b[43mpath\u001b[49m\u001b[43m,\u001b[49m\u001b[43m \u001b[49m\u001b[43mmode\u001b[49m\u001b[43m,\u001b[49m\u001b[43m \u001b[49m\u001b[43mencoding\u001b[49m\u001b[38;5;241;43m=\u001b[39;49m\u001b[43mencoding\u001b[49m\u001b[43m,\u001b[49m\u001b[43m \u001b[49m\u001b[43mnewline\u001b[49m\u001b[38;5;241;43m=\u001b[39;49m\u001b[43mnewline\u001b[49m\u001b[43m)\u001b[49m\n",
      "File \u001b[1;32m~\\anaconda3\\lib\\site-packages\\numpy\\lib\\_datasource.py:530\u001b[0m, in \u001b[0;36mDataSource.open\u001b[1;34m(self, path, mode, encoding, newline)\u001b[0m\n\u001b[0;32m    528\u001b[0m     \u001b[38;5;28;01mif\u001b[39;00m ext \u001b[38;5;241m==\u001b[39m \u001b[38;5;124m'\u001b[39m\u001b[38;5;124mbz2\u001b[39m\u001b[38;5;124m'\u001b[39m:\n\u001b[0;32m    529\u001b[0m         mode\u001b[38;5;241m.\u001b[39mreplace(\u001b[38;5;124m\"\u001b[39m\u001b[38;5;124m+\u001b[39m\u001b[38;5;124m\"\u001b[39m, \u001b[38;5;124m\"\u001b[39m\u001b[38;5;124m\"\u001b[39m)\n\u001b[1;32m--> 530\u001b[0m     \u001b[38;5;28;01mreturn\u001b[39;00m \u001b[43m_file_openers\u001b[49m\u001b[43m[\u001b[49m\u001b[43mext\u001b[49m\u001b[43m]\u001b[49m\u001b[43m(\u001b[49m\u001b[43mfound\u001b[49m\u001b[43m,\u001b[49m\u001b[43m \u001b[49m\u001b[43mmode\u001b[49m\u001b[38;5;241;43m=\u001b[39;49m\u001b[43mmode\u001b[49m\u001b[43m,\u001b[49m\n\u001b[0;32m    531\u001b[0m \u001b[43m                              \u001b[49m\u001b[43mencoding\u001b[49m\u001b[38;5;241;43m=\u001b[39;49m\u001b[43mencoding\u001b[49m\u001b[43m,\u001b[49m\u001b[43m \u001b[49m\u001b[43mnewline\u001b[49m\u001b[38;5;241;43m=\u001b[39;49m\u001b[43mnewline\u001b[49m\u001b[43m)\u001b[49m\n\u001b[0;32m    532\u001b[0m \u001b[38;5;28;01melse\u001b[39;00m:\n\u001b[0;32m    533\u001b[0m     \u001b[38;5;28;01mraise\u001b[39;00m \u001b[38;5;167;01mIOError\u001b[39;00m(\u001b[38;5;124m\"\u001b[39m\u001b[38;5;132;01m%s\u001b[39;00m\u001b[38;5;124m not found.\u001b[39m\u001b[38;5;124m\"\u001b[39m \u001b[38;5;241m%\u001b[39m path)\n",
      "\u001b[1;31mPermissionError\u001b[0m: [Errno 13] Permission denied: 'climate'"
     ]
    }
   ],
   "source": [
    "for i in range(1,11):\n",
    "    print(i)\n",
    "    file=f\"climate{i}\"\n",
    "    data=np.genfromtxt(file,delimiter=',')\n",
    "    con=np.concatenate((data),axis=0)\n",
    "    print(con)\n",
    "con"
   ]
  },
  {
   "cell_type": "code",
   "execution_count": 17,
   "id": "25bdff45",
   "metadata": {},
   "outputs": [
    {
     "data": {
      "text/plain": [
       "array([[85., 51.],\n",
       "       [88., 47.],\n",
       "       [66., 95.],\n",
       "       ...,\n",
       "       [70., 71.],\n",
       "       [91., 92.],\n",
       "       [39., 76.]])"
      ]
     },
     "execution_count": 17,
     "metadata": {},
     "output_type": "execute_result"
    }
   ],
   "source": [
    "con.reshape(1500,2)"
   ]
  },
  {
   "cell_type": "code",
   "execution_count": 21,
   "id": "276ec60e",
   "metadata": {},
   "outputs": [
    {
     "data": {
      "text/plain": [
       "(3000,)"
      ]
     },
     "execution_count": 21,
     "metadata": {},
     "output_type": "execute_result"
    }
   ],
   "source": [
    "con.shape"
   ]
  },
  {
   "cell_type": "code",
   "execution_count": 13,
   "id": "c2db5ca8",
   "metadata": {},
   "outputs": [
    {
     "data": {
      "text/plain": [
       "array([[25., 76., 99.],\n",
       "       [39., 65., 70.],\n",
       "       [59., 45., 77.],\n",
       "       ...,\n",
       "       [47., 91., 86.],\n",
       "       [90., 99., 96.],\n",
       "       [40., 46., 78.]])"
      ]
     },
     "execution_count": 13,
     "metadata": {},
     "output_type": "execute_result"
    }
   ],
   "source": [
    "import numpy as np\n",
    "import os\n",
    "os.listdir()\n",
    "k=np.array([])\n",
    "for i in os.listdir():\n",
    "    if i.startswith('climate_data_station'):\n",
    "        a=np.genfromtxt(i,delimiter=',',skip_header=True)\n",
    "        if k.size == 0:\n",
    "            k = a\n",
    "        else:\n",
    "            k=np.concatenate((k,a),axis=0)\n",
    "k"
   ]
  },
  {
   "cell_type": "code",
   "execution_count": 11,
   "id": "9371b39d",
   "metadata": {},
   "outputs": [
    {
     "data": {
      "text/plain": [
       "array([[25., 76., 99.],\n",
       "       [39., 65., 70.],\n",
       "       [59., 45., 77.],\n",
       "       ...,\n",
       "       [99., 62., 58.],\n",
       "       [70., 71., 91.],\n",
       "       [92., 39., 76.]])"
      ]
     },
     "execution_count": 11,
     "metadata": {},
     "output_type": "execute_result"
    }
   ],
   "source": [
    "k=np.array([])\n",
    "a=np.concatenate([np.genfromtxt(f'climate_data_station{i}.csv',delimiter=',',skip_header=True)for i in range(1,11)])\n",
    "a"
   ]
  },
  {
   "cell_type": "code",
   "execution_count": 15,
   "id": "109b4eea",
   "metadata": {},
   "outputs": [
    {
     "ename": "NameError",
     "evalue": "name 'b' is not defined",
     "output_type": "error",
     "traceback": [
      "\u001b[1;31m---------------------------------------------------------------------------\u001b[0m",
      "\u001b[1;31mNameError\u001b[0m                                 Traceback (most recent call last)",
      "Input \u001b[1;32mIn [15]\u001b[0m, in \u001b[0;36m<cell line: 3>\u001b[1;34m()\u001b[0m\n\u001b[0;32m      1\u001b[0m w1,w2,w3\u001b[38;5;241m=\u001b[39m\u001b[38;5;241m0.3\u001b[39m,\u001b[38;5;241m0.2\u001b[39m,\u001b[38;5;241m0.5\u001b[39m\n\u001b[0;32m      2\u001b[0m result\u001b[38;5;241m=\u001b[39m[]\n\u001b[1;32m----> 3\u001b[0m yield_of_corp\u001b[38;5;241m=\u001b[39mw1\u001b[38;5;241m*\u001b[39m\u001b[43mb\u001b[49m[:,\u001b[38;5;241m0\u001b[39m]\u001b[38;5;241m+\u001b[39mw2\u001b[38;5;241m*\u001b[39mb[:,\u001b[38;5;241m1\u001b[39m]\u001b[38;5;241m+\u001b[39mw3\u001b[38;5;241m*\u001b[39mb[:,\u001b[38;5;241m2\u001b[39m]\n\u001b[0;32m      4\u001b[0m data\u001b[38;5;241m=\u001b[39mnp\u001b[38;5;241m.\u001b[39mcolumn_stack((b,yield_of_corp))\n\u001b[0;32m      5\u001b[0m result\u001b[38;5;241m.\u001b[39mappend(data)\n",
      "\u001b[1;31mNameError\u001b[0m: name 'b' is not defined"
     ]
    }
   ],
   "source": [
    "w1,w2,w3=0.3,0.2,0.5\n",
    "result=[]\n",
    "yield_of_corp=w1*b[:,0]+w2*b[:,1]+w3*b[:,2]\n",
    "data=np.column_stack((b,yield_of_corp))\n",
    "result.append(data)\n",
    "result=np.concatenate(result,axis=0)\n",
    "np.savetext('final_result.csv',result,delimiter=',',fmt='%0.1f')"
   ]
  },
  {
   "cell_type": "code",
   "execution_count": null,
   "id": "a986acf9",
   "metadata": {},
   "outputs": [],
   "source": []
  }
 ],
 "metadata": {
  "kernelspec": {
   "display_name": "Python 3 (ipykernel)",
   "language": "python",
   "name": "python3"
  },
  "language_info": {
   "codemirror_mode": {
    "name": "ipython",
    "version": 3
   },
   "file_extension": ".py",
   "mimetype": "text/x-python",
   "name": "python",
   "nbconvert_exporter": "python",
   "pygments_lexer": "ipython3",
   "version": "3.9.12"
  }
 },
 "nbformat": 4,
 "nbformat_minor": 5
}
